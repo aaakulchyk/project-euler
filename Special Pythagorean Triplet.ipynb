{
 "cells": [
  {
   "cell_type": "code",
   "execution_count": 1,
   "metadata": {},
   "outputs": [],
   "source": [
    "# a^2 + b^2 = c^2\n",
    "# a < b < c\n",
    "# a + b + c = 1000\n",
    "\n",
    "# Find a * b * c"
   ]
  },
  {
   "cell_type": "code",
   "execution_count": 2,
   "metadata": {},
   "outputs": [],
   "source": [
    "# a^2 + b^2 = (a + b)^2 - 2 * a * b = c^2 => c = np.sqrt(a^2 + b^2)\n",
    "# a + b + np.sqrt(a^2 + b^2) = 1000\n",
    "# a * b * c = a * b * np.sqrt(a^2 + b^2) = ?"
   ]
  },
  {
   "cell_type": "markdown",
   "metadata": {},
   "source": [
    "# Special Pythagorean Triplet\n",
    "\n",
    "A Pythagorean triplet is a set of three natural numbers, $a < b < c$, for which,\n",
    "\n",
    "\\begin{equation}\n",
    "    a^2 + b^2 = c^2\n",
    "\\end{equation}\n",
    "\n",
    "For example, $3^2 + 4^2 = 9 + 16 = 25 = 5^2$.\n",
    "\n",
    "There exists exactly one Pythagorean triplet for which $a + b + c = 1000$.\n",
    "Find the product $abc$."
   ]
  },
  {
   "cell_type": "markdown",
   "metadata": {},
   "source": [
    "# Solution\n",
    "\n",
    "Given $a < b < c$, we will loop through integers $1 <= b <= 1000$ and $1 <= a < b$, because this range is relatively narrow, so we can use \"brute-force\". For each pair $(a, b)$ we will calculate $c = \\sqrt{a^2 + b^2}$, and check if it is integer too, i.e. $c\\mod1 = 0$. If we found the triplet $(a, b, c), a + b + c = 1000$, we compute product $abc$ and break the looping mechanism."
   ]
  },
  {
   "cell_type": "code",
   "execution_count": 6,
   "metadata": {},
   "outputs": [
    {
     "name": "stdout",
     "output_type": "stream",
     "text": [
      "a = 200, b = 375, c = 425.0\n",
      "abc = 31875000.0\n"
     ]
    }
   ],
   "source": [
    "import numpy as np\n",
    "\n",
    "\n",
    "for b in range(1, 1001):\n",
    "    for a in range(1, b):\n",
    "        c = np.sqrt(a * a + b * b)\n",
    "        if not c % 1:\n",
    "            if a + b + c == 1000:\n",
    "                abc = a * b * c\n",
    "                print(f'a = {a}, b = {b}, c = {c}\\nabc = {abc}')\n",
    "                break"
   ]
  }
 ],
 "metadata": {
  "kernelspec": {
   "display_name": "Python 3",
   "language": "python",
   "name": "python3"
  },
  "language_info": {
   "codemirror_mode": {
    "name": "ipython",
    "version": 3
   },
   "file_extension": ".py",
   "mimetype": "text/x-python",
   "name": "python",
   "nbconvert_exporter": "python",
   "pygments_lexer": "ipython3",
   "version": "3.7.3"
  }
 },
 "nbformat": 4,
 "nbformat_minor": 2
}
